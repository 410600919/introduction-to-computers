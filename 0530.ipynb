{
  "nbformat": 4,
  "nbformat_minor": 0,
  "metadata": {
    "colab": {
      "name": "0530.ipynb",
      "provenance": [],
      "authorship_tag": "ABX9TyOMoWoQ94IjJehVuTTyTn8g",
      "include_colab_link": true
    },
    "kernelspec": {
      "name": "python3",
      "display_name": "Python 3"
    },
    "language_info": {
      "name": "python"
    }
  },
  "cells": [
    {
      "cell_type": "markdown",
      "metadata": {
        "id": "view-in-github",
        "colab_type": "text"
      },
      "source": [
        "<a href=\"https://colab.research.google.com/github/410600919/introduction-to-computers/blob/main/0530.ipynb\" target=\"_parent\"><img src=\"https://colab.research.google.com/assets/colab-badge.svg\" alt=\"Open In Colab\"/></a>"
      ]
    },
    {
      "cell_type": "code",
      "execution_count": null,
      "metadata": {
        "colab": {
          "base_uri": "https://localhost:8080/"
        },
        "id": "dwLM1eqsB6kE",
        "outputId": "41bf2db0-0965-44a9-cf1b-27271d74a2c7"
      },
      "outputs": [
        {
          "output_type": "stream",
          "name": "stdout",
          "text": [
            "0530\n"
          ]
        }
      ],
      "source": [
        "print(\"0530\")"
      ]
    },
    {
      "cell_type": "markdown",
      "source": [
        "九九乘法"
      ],
      "metadata": {
        "id": "qUcnxKPXB88F"
      }
    },
    {
      "cell_type": "code",
      "source": [
        "\n",
        "for i in range (2,10):\n",
        "    for j in range (1,10):\n",
        "        product = i*j\n",
        "        print(\"%d*%d=%2d\" % (i, j, product),end=\"\")\n",
        "    print ()"
      ],
      "metadata": {
        "colab": {
          "base_uri": "https://localhost:8080/"
        },
        "id": "T5_ZY61GCD0E",
        "outputId": "befd40bc-4471-4b08-9602-d149e0b21f93"
      },
      "execution_count": null,
      "outputs": [
        {
          "output_type": "stream",
          "name": "stdout",
          "text": [
            "2*1= 22*2= 42*3= 62*4= 82*5=102*6=122*7=142*8=162*9=18\n",
            "3*1= 33*2= 63*3= 93*4=123*5=153*6=183*7=213*8=243*9=27\n",
            "4*1= 44*2= 84*3=124*4=164*5=204*6=244*7=284*8=324*9=36\n",
            "5*1= 55*2=105*3=155*4=205*5=255*6=305*7=355*8=405*9=45\n",
            "6*1= 66*2=126*3=186*4=246*5=306*6=366*7=426*8=486*9=54\n",
            "7*1= 77*2=147*3=217*4=287*5=357*6=427*7=497*8=567*9=63\n",
            "8*1= 88*2=168*3=248*4=328*5=408*6=488*7=568*8=648*9=72\n",
            "9*1= 99*2=189*3=279*4=369*5=459*6=549*7=639*8=729*9=81\n"
          ]
        }
      ]
    },
    {
      "cell_type": "markdown",
      "source": [
        "最小公倍數"
      ],
      "metadata": {
        "id": "bGEz89T7gwmg"
      }
    },
    {
      "cell_type": "code",
      "source": [
        "a = int(input (\"請輸入a的值\"))\n",
        "b = int(input (\"請輸入b的值\"))\n",
        "\n",
        "maxno = a * b\n",
        "for i in range (1,maxno+1):\n",
        "    if(i % a == 0 and i % b == 0):\n",
        "       break\n",
        "print (\"%d和 %d的最小公倍數 = %d\" %(a, b, i))"
      ],
      "metadata": {
        "colab": {
          "base_uri": "https://localhost:8080/"
        },
        "id": "olDjIaG6Ehv7",
        "outputId": "18580dd1-a066-41ad-8bca-1ca577a538e5"
      },
      "execution_count": null,
      "outputs": [
        {
          "output_type": "stream",
          "name": "stdout",
          "text": [
            "請輸入a的值4\n",
            "請輸入b的值5\n",
            "4和 5的最小公倍數 = 20\n"
          ]
        }
      ]
    },
    {
      "cell_type": "markdown",
      "source": [
        "排除數列中5的倍數"
      ],
      "metadata": {
        "id": "a-J2fCAgGvUg"
      }
    },
    {
      "cell_type": "code",
      "source": [
        "n = int(input (\":\"))\n",
        "for i in range (1,n+1):\n",
        "    if i % 5 == 0:\n",
        "        continue\n",
        "    print (i,end=\" \")"
      ],
      "metadata": {
        "colab": {
          "base_uri": "https://localhost:8080/"
        },
        "id": "aynPD1__GywE",
        "outputId": "a7c87b7d-94c6-454a-b0b8-c8c4f532d4ae"
      },
      "execution_count": null,
      "outputs": [
        {
          "output_type": "stream",
          "name": "stdout",
          "text": [
            ":21\n",
            "1 2 3 4 6 7 8 9 11 12 13 14 16 17 18 19 21 "
          ]
        }
      ]
    },
    {
      "cell_type": "markdown",
      "source": [
        "while"
      ],
      "metadata": {
        "id": "vYY5dMtUI9Oh"
      }
    },
    {
      "cell_type": "code",
      "source": [
        "total= n = 0\n",
        "while(n<= 10):\n",
        "    total += n\n",
        "    n += 1\n",
        "print(total)"
      ],
      "metadata": {
        "colab": {
          "base_uri": "https://localhost:8080/"
        },
        "id": "iaXGo0WNI-9D",
        "outputId": "bdf5572a-9767-4ad8-e491-a05afea71571"
      },
      "execution_count": null,
      "outputs": [
        {
          "output_type": "stream",
          "name": "stdout",
          "text": [
            "55\n"
          ]
        }
      ]
    },
    {
      "cell_type": "code",
      "source": [
        "total= n = 0\n",
        "while n<= 10:\n",
        "    total += n\n",
        "    n += 1\n",
        "print(total)"
      ],
      "metadata": {
        "colab": {
          "base_uri": "https://localhost:8080/"
        },
        "id": "hPwH6uvBkXCQ",
        "outputId": "3c1e815c-3666-46a8-bca2-70f7aadc7eaf"
      },
      "execution_count": null,
      "outputs": [
        {
          "output_type": "stream",
          "name": "stdout",
          "text": [
            "55\n"
          ]
        }
      ]
    },
    {
      "cell_type": "code",
      "source": [
        "total = i = 1\n",
        "n = int(input(\"請輸入正整數的值:\" ))\n",
        "while i <= n:\n",
        "    total *= i\n",
        "    i += 1\n",
        "print(\"%d!=%d\" % (n, total))"
      ],
      "metadata": {
        "id": "9b5IWBt0KQvr",
        "colab": {
          "base_uri": "https://localhost:8080/"
        },
        "outputId": "173b4b2f-4c0f-48c2-aaa4-bd7762c3d4ef"
      },
      "execution_count": null,
      "outputs": [
        {
          "output_type": "stream",
          "name": "stdout",
          "text": [
            "請輸入正整數的值:5\n",
            "5!=120\n"
          ]
        }
      ]
    },
    {
      "cell_type": "code",
      "source": [
        "sum = 0\n",
        "for i in range (0,51):\n",
        "    if i % 2 == 0:\n",
        "        sum = sum + i\n",
        "    i += 1\n",
        "print(f\"0~50的偶數和結果是{sum}\" )"
      ],
      "metadata": {
        "colab": {
          "base_uri": "https://localhost:8080/"
        },
        "id": "pqgIgGycpNi_",
        "outputId": "be46404a-15a5-4fb2-a848-b3af0caac4fc"
      },
      "execution_count": null,
      "outputs": [
        {
          "output_type": "stream",
          "name": "stdout",
          "text": [
            "0~50的偶數和結果是650\n"
          ]
        }
      ]
    },
    {
      "cell_type": "code",
      "source": [
        "sum = 0\n",
        "for i in range (0,51):\n",
        "    if i % 2 != 0:\n",
        "        sum = sum + i\n",
        "    i += 1\n",
        "print(f\"0~50的奇數和結果是{sum}\")"
      ],
      "metadata": {
        "colab": {
          "base_uri": "https://localhost:8080/"
        },
        "id": "C0q3YR6rqs9r",
        "outputId": "7bfece13-4f5b-4976-f459-299847a2fe35"
      },
      "execution_count": null,
      "outputs": [
        {
          "output_type": "stream",
          "name": "stdout",
          "text": [
            "0~50的奇數和結果是625\n"
          ]
        }
      ]
    },
    {
      "cell_type": "code",
      "source": [
        "n=int(input(\"請輸入正整數:\"))\n",
        "for i in range(n,0,-1):\n",
        "  print(\"*\"*i)"
      ],
      "metadata": {
        "id": "r2YFtIsdrafp",
        "colab": {
          "base_uri": "https://localhost:8080/"
        },
        "outputId": "437cccf3-7823-4180-e363-d9541984fc6e"
      },
      "execution_count": 1,
      "outputs": [
        {
          "output_type": "stream",
          "name": "stdout",
          "text": [
            "請輸入正整數:7\n",
            "*******\n",
            "******\n",
            "*****\n",
            "****\n",
            "***\n",
            "**\n",
            "*\n"
          ]
        }
      ]
    },
    {
      "cell_type": "code",
      "source": [
        "n=int(input(\"請輸入正整數:\"))\n",
        "sum=0\n",
        "for i in range(0,n+1):\n",
        "  if i%3!=0 and i%7!=0:\n",
        "    continue\n",
        "  sum=sum+i\n",
        "print(\"數值1~%d中,所有是3或7的倍數總之和=%d\"%(n,sum))"
      ],
      "metadata": {
        "colab": {
          "base_uri": "https://localhost:8080/"
        },
        "id": "XD51nsG-MrZX",
        "outputId": "872a393c-0aab-4683-9a4f-30d97070eef6"
      },
      "execution_count": 6,
      "outputs": [
        {
          "output_type": "stream",
          "name": "stdout",
          "text": [
            "請輸入正整數:100\n",
            "數值1~100中,所有是3或7的倍數總之和=2208\n"
          ]
        }
      ]
    }
  ]
}