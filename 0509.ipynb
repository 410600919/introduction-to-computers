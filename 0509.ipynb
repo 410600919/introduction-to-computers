{
  "nbformat": 4,
  "nbformat_minor": 0,
  "metadata": {
    "colab": {
      "name": "0509.ipynb",
      "provenance": [],
      "authorship_tag": "ABX9TyNR8fJSHMnp3ruFPM8b3L1G",
      "include_colab_link": true
    },
    "kernelspec": {
      "name": "python3",
      "display_name": "Python 3"
    },
    "language_info": {
      "name": "python"
    }
  },
  "cells": [
    {
      "cell_type": "markdown",
      "metadata": {
        "id": "view-in-github",
        "colab_type": "text"
      },
      "source": [
        "<a href=\"https://colab.research.google.com/github/410600919/introduction-to-computers/blob/main/0509.ipynb\" target=\"_parent\"><img src=\"https://colab.research.google.com/assets/colab-badge.svg\" alt=\"Open In Colab\"/></a>"
      ]
    },
    {
      "cell_type": "code",
      "execution_count": 1,
      "metadata": {
        "colab": {
          "base_uri": "https://localhost:8080/"
        },
        "id": "1mdzpTFgDC4S",
        "outputId": "66c59834-f1a5-4f6e-cd11-60ba5d8bdc05"
      },
      "outputs": [
        {
          "output_type": "stream",
          "name": "stdout",
          "text": [
            "請輸入你的體溫36.7\n",
            "體溫正常！\n"
          ]
        }
      ],
      "source": [
        "temp=float(input(\"請輸入你的體溫\"))\n",
        "if temp>= 37.5:\n",
        "   print(\"體溫過高！\")\n",
        "elif temp >= 37 and temp < 37.4:\n",
        "    print(\"體溫略高！\")\n",
        "elif temp>= 34 and temp <= 36.9:\n",
        "    print(\"體溫正常！\")\n",
        "else:\n",
        "    print(\"體溫異常，請重新測量！\")"
      ]
    },
    {
      "cell_type": "code",
      "source": [
        "score = input(\"請輸入成績\")\n",
        "if (int(score) >= 90):\n",
        "    print(\"A\")\n",
        "elif (int(score) >= 80):\n",
        "   print(\"B\")\n",
        "elif (int(score) >= 70):\n",
        "   print(\"C\")\n",
        "elif (int(score) >= 60):\n",
        "   print (\"D\")\n",
        "else:\n",
        "    print (\"E\")"
      ],
      "metadata": {
        "colab": {
          "base_uri": "https://localhost:8080/"
        },
        "id": "A0FLysPADJU9",
        "outputId": "8b32d8fa-87bb-42ac-973b-1eed80c865ec"
      },
      "execution_count": 2,
      "outputs": [
        {
          "output_type": "stream",
          "name": "stdout",
          "text": [
            "請輸入成績88\n",
            "B\n"
          ]
        }
      ]
    },
    {
      "cell_type": "code",
      "source": [
        "money = int(input(\"請輸入購物金額:\"))\n",
        "if (money >= 10000):\n",
        "  if(money >= 100000):\n",
        "    print (\"八折\", money*0.8,end = \"元\\n\")\n",
        "  elif (money >= 50000):\n",
        "   print (\"八五折\", money*0.85,end = \"元\\n\")\n",
        "  elif (money >= 30000):\n",
        "   print (\"九折\", money*0.9,end = \"元\\n\")\n",
        "  else:\n",
        "   print (\"九五折\", money*0.95,end = \"元\\n\")\n",
        "else:\n",
        "  print(\"沒打折\", money, end= \"元\\n\")"
      ],
      "metadata": {
        "colab": {
          "base_uri": "https://localhost:8080/"
        },
        "id": "IrMan1hwFL8o",
        "outputId": "eca7561b-7c7b-47f6-f9eb-ed5bfc24c41d"
      },
      "execution_count": 4,
      "outputs": [
        {
          "output_type": "stream",
          "name": "stdout",
          "text": [
            "請輸入購物金額:35800\n",
            "九折 32220.0元\n"
          ]
        }
      ]
    },
    {
      "cell_type": "code",
      "source": [
        "month = int(input(\"請輸入月份\"))\n",
        "if month >= 3 and month <= 5:\n",
        "  print (month,\"月是春天!\")\n",
        "elif month >= 6 and month <= 8:\n",
        "    print (month,\"月是夏天!\")\n",
        "elif month >= 9 and month <= 11:\n",
        "    print (month,\"月是秋天!\")\n",
        "elif month == 12 or 2 >= month >=1:\n",
        "    print (month,\"月是冬天!\")\n",
        "else:\n",
        "    print (\"月份不在範圍內!\")"
      ],
      "metadata": {
        "colab": {
          "base_uri": "https://localhost:8080/"
        },
        "id": "19yFOCA_JQXF",
        "outputId": "7c71b645-8005-425a-f230-eb2acb5e1ab8"
      },
      "execution_count": 9,
      "outputs": [
        {
          "output_type": "stream",
          "name": "stdout",
          "text": [
            "請輸入月份12\n",
            "12 月是冬天!\n"
          ]
        }
      ]
    },
    {
      "cell_type": "code",
      "source": [
        "money = int(input(\"請輸入今年收入淨額\"))\n",
        "if money >= 2000000:\n",
        "  print (\"付稅金額:\",money*0.3)\n",
        "elif money >= 1000000:\n",
        "    print (\"付稅金額:\", money*0.21)\n",
        "elif money >= 600000:\n",
        "    print (\"付稅金額:\",money*0.13)\n",
        "elif money >= 300000:\n",
        "    print (\"付稅金額:\",money*0.06)\n",
        "else:\n",
        "    print (\"賦稅金額:0元\")"
      ],
      "metadata": {
        "colab": {
          "base_uri": "https://localhost:8080/"
        },
        "id": "XoymMDzwMEfe",
        "outputId": "29b91416-0c77-4438-ef0d-478e792f48d8"
      },
      "execution_count": 10,
      "outputs": [
        {
          "output_type": "stream",
          "name": "stdout",
          "text": [
            "請輸入今年收入淨額100000\n",
            "賦稅金額:0元\n"
          ]
        }
      ]
    }
  ]
}